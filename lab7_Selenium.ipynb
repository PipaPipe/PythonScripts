{
 "cells": [
  {
   "cell_type": "code",
   "execution_count": 36,
   "id": "3bb9381b-4c18-443a-8b53-4473e5452ff1",
   "metadata": {},
   "outputs": [],
   "source": [
    "from selenium.webdriver import Chrome\n",
    "from selenium import webdriver\n",
    "from selenium.webdriver.common.by import By\n",
    "from selenium.webdriver.chrome.options import Options\n",
    "from bs4 import BeautifulSoup as bs\n",
    "\n",
    "import requests\n",
    "import os\n",
    "import time\n",
    "import pandas as pd\n",
    "import re"
   ]
  },
  {
   "cell_type": "code",
   "execution_count": 37,
   "id": "e60d1e4d-0ed3-4626-92f9-c1f2417fc493",
   "metadata": {},
   "outputs": [],
   "source": [
    "def create_df(list_of_ads):\n",
    "    data = {'Title': list_of_ads[0], 'Price': list_of_ads[1]}\n",
    "    df = pd.DataFrame(data)\n",
    "    df['Title'] = df['Title'].apply(lambda x: ''.join([str(i) for i in x]))\n",
    "    df['Price'] = df['Price'].apply(lambda x: ''.join([''.join(re.findall(r'>([^<>]+)<', str(i))) for i in x]))\n",
    "    return df"
   ]
  },
  {
   "cell_type": "code",
   "execution_count": 38,
   "id": "e9155e27-04fd-448a-83de-ed2c8bf21951",
   "metadata": {},
   "outputs": [],
   "source": [
    "def parser(driver):\n",
    "    try:\n",
    "        html = driver.page_source\n",
    "        soup = bs(html)\n",
    "        elements = soup.find_all('h3', \n",
    "                                 class_='styles-module-root-TWVKW styles-module-root-_KFFt styles-module-size_l-_oGDF styles-module-size_l_compensated-OK6a6 styles-module-size_l-hruVE styles-module-ellipsis-LKWy3 styles-module-weight_bold-Kpd5F stylesMarningNormal-module-root-OSCNq stylesMarningNormal-module-header-l-qvNIS')\n",
    "        price = soup.find_all('strong', class_='styles-module-root-LIAav')\n",
    "        photo = soup.find_all('div', class_='photo-slider-item-nKXVO photo-slider-item_visible-IHtR5 photo-slider-keepImageRatio-C5mWU')\n",
    "        min_length = None\n",
    "        if len(elements) > len(price):\n",
    "            min_length = len(price)\n",
    "        else:\n",
    "            min_length = len(elements)\n",
    "        \n",
    "        elements = elements[len(elements) - min_length:]\n",
    "        price = price[len(price) - min_length:]\n",
    "        return elements, price, True\n",
    "    except Exception:\n",
    "        return False"
   ]
  },
  {
   "cell_type": "code",
   "execution_count": 39,
   "id": "90ed5712-3127-4272-8b69-181f5121c304",
   "metadata": {},
   "outputs": [],
   "source": [
    "AVITO_URL = \"https://www.avito.ru/\""
   ]
  },
  {
   "cell_type": "code",
   "execution_count": 40,
   "id": "18b8a416-f465-4e89-be3d-145fa6aee624",
   "metadata": {},
   "outputs": [],
   "source": [
    "def get_df_with_parse_value(keys):\n",
    "    try:\n",
    "        global AVITO_URL\n",
    "        driver = webdriver.Chrome()\n",
    "        driver.get(AVITO_URL)\n",
    "        \n",
    "        textarea = driver.find_element(By.CSS_SELECTOR, 'input.input-input-Zpzc1')\n",
    "        textarea.send_keys(keys)\n",
    "        \n",
    "        submit_button = driver.find_element(By.CSS_SELECTOR, \"button.desktop-15w37ob\")\n",
    "        submit_button.click()\n",
    "        \n",
    "        soup = parser(driver)\n",
    "        df = create_df(soup)\n",
    "        driver.quit()\n",
    "        return df, True\n",
    "    except Exception:\n",
    "        return False"
   ]
  },
  {
   "cell_type": "code",
   "execution_count": 51,
   "id": "80b1bdeb-61ca-4eb8-a86a-e5cc93d3a70b",
   "metadata": {},
   "outputs": [],
   "source": [
    "df = get_df_with_parse_value('asjkdjaskjdjaksjdklasjdklasjdasjasdasd')"
   ]
  },
  {
   "cell_type": "code",
   "execution_count": 52,
   "id": "3c9eae20-58e0-4e20-b7e7-2fc7189060c3",
   "metadata": {},
   "outputs": [
    {
     "data": {
      "text/plain": [
       "(                                                Title                Price\n",
       " 0                      Водитель курьер на личном авто   50 000 — 130 000 ₽\n",
       " 1     Вoдuтeль(тoльko жeнщuнa) тakcu нa пaрkoвый aвтo   75 000 — 110 000 ₽\n",
       " 2                      Водитель на личном авто работа  117 000 — 137 000 ₽\n",
       " 3                    Курьер на доставку с личным авто  117 000 — 137 000 ₽\n",
       " 4                        Автокурьер работа в доставке          до 91 000 ₽\n",
       " 5       Водитель на своем авто - еженедельные выплаты         от 117 000 ₽\n",
       " 6             Курьер на личном автомобиле. Подработка   60 000 — 150 037 ₽\n",
       " 7                                Курьер на велосипеде         до 102 369 ₽\n",
       " 8   Подработка в твоем районе, Курьер Маркет Деливери         до 120 000 ₽\n",
       " 9                                     Водитель-курьер         до 157 000 ₽\n",
       " 10               Водитель курьер с личным автомобилем   50 000 — 130 000 ₽\n",
       " 11                   Курьер, Подработка в сбермаркете         до 108 000 ₽\n",
       " 12               Водитель курьер на личном автомобиле   50 000 — 130 000 ₽\n",
       " 13             Водитель-курьер на автомобили компании          от 85 000 ₽\n",
       " 14             Водитель-курьер на автомобили компании          от 85 000 ₽\n",
       " 15                       Бригадир в рц. Пермский край  Зарплата не указана\n",
       " 16                Водитель таксист ежедневные выплаты   80 000 — 120 000 ₽\n",
       " 17                                   Курьер без опыта    46 000 — 66 000 ₽\n",
       " 18                        Велокурьер доставка заказов         до 102 369 ₽\n",
       " 19             Работа курьером доставка на своем авто   60 000 — 140 000 ₽\n",
       " 20                    Подработка курьер на своём авто         от 120 000 ₽\n",
       " 21                      Работа курьером на своем авто          от 95 000 ₽\n",
       " 22             Водитель-курьер на автомобили компании          от 85 000 ₽\n",
       " 23             Водитель-курьер на автомобили компании          от 85 000 ₽\n",
       " 24                       Бригадир в рц. Пермский край  Зарплата не указана\n",
       " 25                       Бригадир в рц. Пермский край  Зарплата не указана\n",
       " 26                       Бригадир в рц. Пермский край  Зарплата не указана\n",
       " 27                                  Курьер подработка         до 147 890 ₽\n",
       " 28                               Курьер на автомобиле   90 000 — 170 000 ₽\n",
       " 29                       Бригадир в рц. Пермский край  Зарплата не указана\n",
       " 30                       Бригадир в рц. Пермский край  Зарплата не указана\n",
       " 31                    Курьер на своём авто подработка          от 87 100 ₽\n",
       " 32                      Работа курьером на лично авто          до 78 365 ₽\n",
       " 33             Водитель-курьер на автомобили компании          от 85 000 ₽\n",
       " 34             Водитель-курьер на автомобили компании          от 85 000 ₽\n",
       " 35             Водитель-курьер на автомобили компании          от 85 000 ₽\n",
       " 36    Складской рабочий / Работа вахтой в Москве и мо         от 110 000 ₽\n",
       " 37          Водитель-курьер на собственном автомобиле   70 000 — 140 000 ₽\n",
       " 38     Курьер на велосипеде (подработка от 4-х часов)    40 000 — 80 000 ₽\n",
       " 39                       Бригадир в рц. Пермский край  Зарплата не указана\n",
       " 40              Подработка курьером в свободное время        1 — 119 281 ₽\n",
       " 41                    Работник склада, грузчик. Пермь   85 000 — 120 000 ₽\n",
       " 42                                   Курьер без опыта    48 000 — 71 000 ₽\n",
       " 43                         Водитель Курьер подработка  100 000 — 125 000 ₽\n",
       " 44    Мастер шиномонтажа (работа в районе проживания)   40 000 — 100 000 ₽\n",
       " 45                               Курьер на автомобиле    45 000 — 68 000 ₽\n",
       " 46                               Водитель категории В          от 42 000 ₽\n",
       " 47      Водитель-курьер с личным грузовым автомобилем          от 60 000 ₽\n",
       " 48                         Курьер на своем автомобиле          до 73 690 ₽\n",
       " 49               Таксист водитель без опыта с машиной   90 000 — 110 000 ₽,\n",
       " True)"
      ]
     },
     "execution_count": 52,
     "metadata": {},
     "output_type": "execute_result"
    }
   ],
   "source": [
    "df"
   ]
  },
  {
   "cell_type": "code",
   "execution_count": 43,
   "id": "b76762a2-c2a6-42d4-a2b4-4b83b7547a9b",
   "metadata": {},
   "outputs": [],
   "source": [
    "# Напишем тесты для основных функций"
   ]
  },
  {
   "cell_type": "code",
   "execution_count": 53,
   "id": "d85dcd72-ab54-439d-a2b0-a84aae61baf0",
   "metadata": {},
   "outputs": [],
   "source": [
    "import unittest"
   ]
  },
  {
   "cell_type": "code",
   "execution_count": 56,
   "id": "d44d86ef-9ccd-49a8-9736-45cbfe380ac0",
   "metadata": {},
   "outputs": [],
   "source": [
    "class TestLab1Functions(unittest.TestCase):\n",
    "    def test_get_df_with_parse_value(self):\n",
    "        result = get_df_with_parse_value(\"кошечка\")\n",
    "        self.assertEqual(result[0].shape[0], 50)\n",
    "        self.assertTrue(result[1])\n",
    "        \n",
    "\n",
    "    def test_parser(self):\n",
    "        result = parser(123)\n",
    "        self.assertFalse(result)\n",
    "        driver = webdriver.Chrome()\n",
    "        driver.get(AVITO_URL)\n",
    "        result = parser(driver)\n",
    "        self.assertTrue(result[2])\n",
    "        \n",
    "        "
   ]
  },
  {
   "cell_type": "code",
   "execution_count": 57,
   "id": "14005278-b5a4-4030-bf13-778a88416f41",
   "metadata": {},
   "outputs": [
    {
     "name": "stderr",
     "output_type": "stream",
     "text": [
      "test_get_df_with_parse_value (__main__.TestLab1Functions.test_get_df_with_parse_value) ... ok\n",
      "test_parser (__main__.TestLab1Functions.test_parser) ... ok\n",
      "\n",
      "----------------------------------------------------------------------\n",
      "Ran 2 tests in 88.208s\n",
      "\n",
      "OK\n"
     ]
    },
    {
     "data": {
      "text/plain": [
       "<unittest.main.TestProgram at 0x10fbddc90>"
      ]
     },
     "execution_count": 57,
     "metadata": {},
     "output_type": "execute_result"
    }
   ],
   "source": [
    "unittest.main(argv=[''], verbosity=3, exit=False)"
   ]
  },
  {
   "cell_type": "code",
   "execution_count": null,
   "id": "362f6557-4aa9-4545-89b3-27cfa5002eed",
   "metadata": {},
   "outputs": [],
   "source": []
  }
 ],
 "metadata": {
  "kernelspec": {
   "display_name": "Python 3 (ipykernel)",
   "language": "python",
   "name": "python3"
  },
  "language_info": {
   "codemirror_mode": {
    "name": "ipython",
    "version": 3
   },
   "file_extension": ".py",
   "mimetype": "text/x-python",
   "name": "python",
   "nbconvert_exporter": "python",
   "pygments_lexer": "ipython3",
   "version": "3.11.0"
  }
 },
 "nbformat": 4,
 "nbformat_minor": 5
}
