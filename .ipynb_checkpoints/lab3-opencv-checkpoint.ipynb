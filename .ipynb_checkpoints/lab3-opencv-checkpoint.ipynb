{
 "cells": [
  {
   "cell_type": "code",
   "execution_count": 1,
   "id": "9b5b8fa8-1206-4a96-953c-4cfd2b7301ca",
   "metadata": {},
   "outputs": [],
   "source": [
    "import cv2\n",
    "import os\n",
    "import numpy as np"
   ]
  },
  {
   "cell_type": "code",
   "execution_count": 2,
   "id": "1fe31888-c6d0-4f74-a3f3-d215b2116ad4",
   "metadata": {},
   "outputs": [],
   "source": [
    "PATH = \"/Users/maksimsadkov/Downloads\"\n",
    "\n",
    "cap = cv2.VideoCapture(0)\n",
    "face_cascade = cv2.CascadeClassifier(os.path.join(PATH,'haarcascade_frontalface_default.xml'))\n",
    "\n",
    "while True:\n",
    "    # чтение изображения с камеры\n",
    "    _, image = cap.read()\n",
    "    # преобразование к оттенкам серого\n",
    "    image_gray = cv2.cvtColor(image, cv2.COLOR_BGR2GRAY)\n",
    "    # обнаружение лиц на фотографии\n",
    "    faces = face_cascade.detectMultiScale(image_gray, 1.3, 5)\n",
    "    # для каждого обнаруженного лица нарисовать синий квадрат\n",
    "    for x, y, width, height in faces:\n",
    "        cv2.rectangle(image, (x, y), (x + width, y + height), color=(255, 0, 0), thickness=2)\n",
    "    cv2.imshow(\"image\", image)\n",
    "    if cv2.waitKey(1) == ord(\"q\"):\n",
    "        break\n",
    "cap.release()\n",
    "cv2.destroyAllWindows()\n"
   ]
  },
  {
   "cell_type": "code",
   "execution_count": 3,
   "id": "42b5a2b4-7208-403c-8782-946c2be4ef60",
   "metadata": {},
   "outputs": [],
   "source": [
    "hsv_min = np.array((0, 54, 5), np.uint8)\n",
    "hsv_max = np.array((187, 255, 253), np.uint8)"
   ]
  },
  {
   "cell_type": "code",
   "execution_count": 2,
   "id": "2f068bee-e1f9-4842-8c1d-715d8bde165b",
   "metadata": {},
   "outputs": [
    {
     "name": "stderr",
     "output_type": "stream",
     "text": [
      "/var/folders/9b/00s529ln6jd19317j1571ltr0000gn/T/ipykernel_966/159934619.py:18: DeprecationWarning: `np.int0` is a deprecated alias for `np.intp`.  (Deprecated NumPy 1.24)\n",
      "  box = np.int0(box)\n"
     ]
    }
   ],
   "source": [
    "cap = cv2.VideoCapture(0)\n",
    "\n",
    "while True:\n",
    "        # чтение изображения с камеры\n",
    "    _, image = cap.read()\n",
    "    # if(image is not None):\n",
    "    #     cv2.cvtColor(image, cv2.COLOR_BGR2GRAY)\n",
    "    gray = cv2.cvtColor(image, cv2.COLOR_BGR2GRAY)\n",
    "    ret,thresh = cv2.threshold(gray,50,255,0)\n",
    "    #hsv = cv2.cvtColor(image, cv2.COLOR_BGR2HSV) # меняем цветовую модель с BGR на HSV\n",
    "    #thresh = cv2.inRange(hsv, hsv_min, hsv_max) # применяем цветовой фильтр\n",
    "    contours0, hierarchy = cv2.findContours(thresh, cv2.RETR_TREE, cv2.CHAIN_APPROX_SIMPLE)\n",
    "    \n",
    "# перебираем все найденные контуры в цикле\n",
    "    for cnt in contours0:\n",
    "        rect = cv2.minAreaRect(cnt)\n",
    "        box = cv2.boxPoints(rect)\n",
    "        box = np.int0(box)\n",
    "        area = int(rect[1][0]*rect[1][1])\n",
    "        if area > 15000:\n",
    "            cv2.drawContours(image,[box],0,(255,0,0),2) # рисуем прямоугольник\n",
    "\n",
    "    cv2.imshow('image', image) # вывод обработанного кадра в окно\n",
    "    if cv2.waitKey(1) == ord(\"q\"):\n",
    "        break\n",
    "cap.release()\n",
    "cv2.destroyAllWindows()\n",
    "        "
   ]
  },
  {
   "cell_type": "code",
   "execution_count": null,
   "id": "432fbb7f-5c5e-4eb9-a7ab-a28c983fbf86",
   "metadata": {},
   "outputs": [],
   "source": []
  }
 ],
 "metadata": {
  "kernelspec": {
   "display_name": "Python 3 (ipykernel)",
   "language": "python",
   "name": "python3"
  },
  "language_info": {
   "codemirror_mode": {
    "name": "ipython",
    "version": 3
   },
   "file_extension": ".py",
   "mimetype": "text/x-python",
   "name": "python",
   "nbconvert_exporter": "python",
   "pygments_lexer": "ipython3",
   "version": "3.11.0"
  }
 },
 "nbformat": 4,
 "nbformat_minor": 5
}
